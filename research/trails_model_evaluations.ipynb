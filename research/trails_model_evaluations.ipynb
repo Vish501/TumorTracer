{
 "cells": [
  {
   "cell_type": "markdown",
   "id": "8acf76c4",
   "metadata": {},
   "source": [
    "# Environment Set Up"
   ]
  },
  {
   "cell_type": "code",
   "execution_count": 1,
   "id": "5c5d9123",
   "metadata": {},
   "outputs": [
    {
     "data": {
      "text/plain": [
       "'/workspaces/TumorTracer'"
      ]
     },
     "execution_count": 1,
     "metadata": {},
     "output_type": "execute_result"
    }
   ],
   "source": [
    "import os\n",
    "from dotenv import load_dotenv\n",
    "\n",
    "# Loading environment variables from .env\n",
    "load_dotenv()\n",
    "\n",
    "# Changing directory to main directory for easy data access\n",
    "working_directory = os.getenv(\"WORKING_DIRECTORY\")\n",
    "os.chdir(working_directory)\n",
    "\n",
    "# Checking the change\n",
    "%pwd"
   ]
  },
  {
   "cell_type": "code",
   "execution_count": 2,
   "id": "e3e35a35",
   "metadata": {},
   "outputs": [
    {
     "name": "stdout",
     "output_type": "stream",
     "text": [
      "Git folder exists: True\n"
     ]
    }
   ],
   "source": [
    "from pathlib import Path\n",
    "\n",
    "# Checking the change\n",
    "print(\"Git folder exists:\", Path(\".git\").exists())"
   ]
  },
  {
   "cell_type": "markdown",
   "id": "bd9b1f44",
   "metadata": {},
   "source": [
    "# 2.5. Model Evaluations"
   ]
  },
  {
   "cell_type": "code",
   "execution_count": 3,
   "id": "d80b3f68",
   "metadata": {},
   "outputs": [
    {
     "name": "stderr",
     "output_type": "stream",
     "text": [
      "2025-07-09 08:04:39.144378: I external/local_tsl/tsl/cuda/cudart_stub.cc:32] Could not find cuda drivers on your machine, GPU will not be used.\n",
      "2025-07-09 08:04:39.147725: I external/local_tsl/tsl/cuda/cudart_stub.cc:32] Could not find cuda drivers on your machine, GPU will not be used.\n",
      "2025-07-09 08:04:39.187508: I tensorflow/core/platform/cpu_feature_guard.cc:210] This TensorFlow binary is optimized to use available CPU instructions in performance-critical operations.\n",
      "To enable the following instructions: AVX2 FMA, in other operations, rebuild TensorFlow with the appropriate compiler flags.\n",
      "2025-07-09 08:04:40.165747: W tensorflow/compiler/tf2tensorrt/utils/py_utils.cc:38] TF-TRT Warning: Could not find TensorRT\n"
     ]
    }
   ],
   "source": [
    "import tensorflow as tf\n",
    "import random\n",
    "import numpy as np\n",
    "\n",
    "# Set random seeds\n",
    "seed = 1234\n",
    "tf.random.set_seed(seed)\n",
    "np.random.seed(seed)\n",
    "random.seed(seed)\n",
    "\n",
    "model = tf.keras.models.load_model(\"artifacts/base_model/updated_base_model.keras\")"
   ]
  },
  {
   "cell_type": "code",
   "execution_count": 4,
   "id": "5291bdda",
   "metadata": {},
   "outputs": [],
   "source": [
    "import tensorflow as tf\n",
    "\n",
    "from typing import Union\n",
    "from tensorflow.keras.preprocessing.image import ImageDataGenerator, DirectoryIterator # type: ignore\n",
    "from pathlib import Path\n",
    "\n",
    "def get_data_generators():\n",
    "    valid_datagen = ImageDataGenerator(rescale=1.0/255)\n",
    "    valid_generator = build_generator(valid_datagen, Path(\"artifacts/data_ingestion/Data/valid\"), \"Valid\")\n",
    "    return valid_generator\n",
    "    \n",
    "def build_generator(datagen: ImageDataGenerator, data_path: Union[str, Path], tag: str) -> DirectoryIterator:\n",
    "    data_path = Path(data_path)\n",
    "\n",
    "    # Building generator\n",
    "    generator_unit = datagen.flow_from_directory(\n",
    "        directory=data_path,\n",
    "        target_size=[224, 224],\n",
    "        batch_size=16,\n",
    "        class_mode=\"categorical\",\n",
    "        shuffle=True,\n",
    "    )\n",
    "\n",
    "    return generator_unit"
   ]
  },
  {
   "cell_type": "code",
   "execution_count": 5,
   "id": "0ee8f9aa",
   "metadata": {},
   "outputs": [
    {
     "name": "stdout",
     "output_type": "stream",
     "text": [
      "Found 72 images belonging to 4 classes.\n"
     ]
    },
    {
     "name": "stderr",
     "output_type": "stream",
     "text": [
      "/usr/local/python/3.12.1/lib/python3.12/site-packages/keras/src/trainers/data_adapters/py_dataset_adapter.py:121: UserWarning: Your `PyDataset` class should call `super().__init__(**kwargs)` in its constructor. `**kwargs` can include `workers`, `use_multiprocessing`, `max_queue_size`. Do not pass these arguments to `fit()`, as they will be ignored.\n",
      "  self._warn_if_super_not_called()\n",
      "2025-07-09 08:04:43.343449: W external/local_tsl/tsl/framework/cpu_allocator_impl.cc:83] Allocation of 205520896 exceeds 10% of free system memory.\n",
      "2025-07-09 08:04:43.536090: W external/local_tsl/tsl/framework/cpu_allocator_impl.cc:83] Allocation of 205520896 exceeds 10% of free system memory.\n",
      "2025-07-09 08:04:44.314319: W external/local_tsl/tsl/framework/cpu_allocator_impl.cc:83] Allocation of 102760448 exceeds 10% of free system memory.\n",
      "2025-07-09 08:04:44.668519: W external/local_tsl/tsl/framework/cpu_allocator_impl.cc:83] Allocation of 102760448 exceeds 10% of free system memory.\n"
     ]
    },
    {
     "name": "stdout",
     "output_type": "stream",
     "text": [
      "\u001b[1m1/5\u001b[0m \u001b[32m━━━━\u001b[0m\u001b[37m━━━━━━━━━━━━━━━━\u001b[0m \u001b[1m25s\u001b[0m 6s/step - accuracy: 0.1875 - loss: 1.4093"
     ]
    },
    {
     "name": "stderr",
     "output_type": "stream",
     "text": [
      "2025-07-09 08:04:49.235813: W external/local_tsl/tsl/framework/cpu_allocator_impl.cc:83] Allocation of 205520896 exceeds 10% of free system memory.\n"
     ]
    },
    {
     "name": "stdout",
     "output_type": "stream",
     "text": [
      "\u001b[1m5/5\u001b[0m \u001b[32m━━━━━━━━━━━━━━━━━━━━\u001b[0m\u001b[37m\u001b[0m \u001b[1m27s\u001b[0m 5s/step - accuracy: 0.2448 - loss: 1.4118\n"
     ]
    }
   ],
   "source": [
    "score = model.evaluate(get_data_generators(), verbose=1)"
   ]
  },
  {
   "cell_type": "code",
   "execution_count": 6,
   "id": "4b1e87ca",
   "metadata": {},
   "outputs": [
    {
     "name": "stdout",
     "output_type": "stream",
     "text": [
      "Found 315 images belonging to 4 classes.\n"
     ]
    },
    {
     "name": "stdout",
     "output_type": "stream",
     "text": [
      "\u001b[1m20/20\u001b[0m \u001b[32m━━━━━━━━━━━━━━━━━━━━\u001b[0m\u001b[37m\u001b[0m \u001b[1m114s\u001b[0m 6s/step - accuracy: 0.2381 - loss: 1.5167\n"
     ]
    }
   ],
   "source": [
    "import tensorflow as tf\n",
    "\n",
    "from typing import Union\n",
    "from tensorflow.keras.preprocessing.image import ImageDataGenerator, DirectoryIterator # type: ignore\n",
    "from pathlib import Path\n",
    "\n",
    "def get_data_generators():\n",
    "    valid_datagen = ImageDataGenerator(rescale=1.0/255)\n",
    "    valid_generator = build_generator(valid_datagen, Path(\"artifacts/data_ingestion/Data/test\"), \"Test\")\n",
    "    return valid_generator\n",
    "    \n",
    "def build_generator(datagen: ImageDataGenerator, data_path: Union[str, Path], tag: str) -> DirectoryIterator:\n",
    "    data_path = Path(data_path)\n",
    "\n",
    "    # Building generator\n",
    "    generator_unit = datagen.flow_from_directory(\n",
    "        directory=data_path,\n",
    "        target_size=[224, 224],\n",
    "        batch_size=16,\n",
    "        class_mode=\"categorical\",\n",
    "        shuffle=True,\n",
    "    )\n",
    "\n",
    "    return generator_unit\n",
    "\n",
    "\n",
    "score = model.evaluate(get_data_generators(), verbose=1)"
   ]
  },
  {
   "cell_type": "code",
   "execution_count": null,
   "id": "70532b80",
   "metadata": {},
   "outputs": [],
   "source": []
  }
 ],
 "metadata": {
  "kernelspec": {
   "display_name": "Python 3",
   "language": "python",
   "name": "python3"
  },
  "language_info": {
   "codemirror_mode": {
    "name": "ipython",
    "version": 3
   },
   "file_extension": ".py",
   "mimetype": "text/x-python",
   "name": "python",
   "nbconvert_exporter": "python",
   "pygments_lexer": "ipython3",
   "version": "3.12.1"
  }
 },
 "nbformat": 4,
 "nbformat_minor": 5
}
